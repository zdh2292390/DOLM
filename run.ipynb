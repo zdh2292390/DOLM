{
 "cells": [
  {
   "cell_type": "code",
   "execution_count": 18,
   "metadata": {},
   "outputs": [
    {
     "name": "stderr",
     "output_type": "stream",
     "text": [
      "usage: pretrain_AHM.py [-h] [--data_dir DATA_DIR] [--data_id DATA_ID]\n",
      "                       [--model_type MODEL_TYPE]\n",
      "                       [--model_name_or_path MODEL_NAME_OR_PATH]\n",
      "                       [--task_name TASK_NAME] [--src_genre SRC_GENRE]\n",
      "                       [--tar_genre TAR_GENRE] --output_dir OUTPUT_DIR\n",
      "                       [--config_name CONFIG_NAME]\n",
      "                       [--tokenizer_name TOKENIZER_NAME]\n",
      "                       [--max_seq_length MAX_SEQ_LENGTH] [--do_train]\n",
      "                       [--do_eval] [--train_batch_size TRAIN_BATCH_SIZE]\n",
      "                       [--eval_batch_size EVAL_BATCH_SIZE]\n",
      "                       [--learning_rate LEARNING_RATE]\n",
      "                       [--weight_decay WEIGHT_DECAY]\n",
      "                       [--adam_epsilon ADAM_EPSILON]\n",
      "                       [--max_grad_norm MAX_GRAD_NORM]\n",
      "                       [--num_train_epochs NUM_TRAIN_EPOCHS]\n",
      "                       [--max_steps MAX_STEPS] [--warmup_steps WARMUP_STEPS]\n",
      "                       [--logging_steps LOGGING_STEPS] [--num_ckpts NUM_CKPTS]\n",
      "                       [--seed SEED] [--baseon_bert]\n",
      "pretrain_AHM.py: error: argument --learning_rate: invalid float value: '${lr}'\n"
     ]
    }
   ],
   "source": [
    "data_dir='./data/Electronics'\n",
    "out='./output/ck'\n",
    "task_name='ahm'\n",
    "#train_size=16\n",
    "eval_size=64\n",
    "norm=1\n",
    "warmup=0\n",
    "decay=0.0\n",
    "lr=1e-5\n",
    "\n",
    "!python pretrain_AHM.py \\\n",
    "    --model_type=bert \\\n",
    "    --data_dir=${data_dir} \\\n",
    "    --model_name_or_path=bert-base-uncased \\\n",
    "    --task_name=${task_name} \\\n",
    "    --do_train --do_eval \\\n",
    "    --output_dir=${out}_ep${epoch}_lr${lr}_bs${bsz} \\\n",
    "    --learning_rate=${lr} \\\n",
    "    --num_train_epochs=${epoch} \\\n",
    "    --max_grad_norm=${norm} \\\n",
    "    --warmup_steps=${warmup} \\\n",
    "    --weight_decay=${decay} \\\n",
    "    --train_batch_size=${bsz} \\\n",
    "    --eval_batch_size=${eval_size}\n",
    "    "
   ]
  }
 ],
 "metadata": {
  "kernelspec": {
   "display_name": "Python 3.9.7 ('base')",
   "language": "python",
   "name": "python3"
  },
  "language_info": {
   "codemirror_mode": {
    "name": "ipython",
    "version": 3
   },
   "file_extension": ".py",
   "mimetype": "text/x-python",
   "name": "python",
   "nbconvert_exporter": "python",
   "pygments_lexer": "ipython3",
   "version": "3.9.7"
  },
  "orig_nbformat": 4,
  "vscode": {
   "interpreter": {
    "hash": "20f018c32eb2507fb3cbcea8ecd551f9b20ec0da5b4ec9b06a928b0b7fcb5e23"
   }
  }
 },
 "nbformat": 4,
 "nbformat_minor": 2
}
