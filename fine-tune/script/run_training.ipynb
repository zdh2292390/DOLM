{
 "cells": [
  {
   "cell_type": "code",
   "execution_count": 1,
   "metadata": {},
   "outputs": [],
   "source": [
    "import json\n",
    "import os\n",
    "import sklearn.metrics\n",
    "import numpy as np\n",
    "import copy\n",
    "\n"
   ]
  },
  {
   "cell_type": "code",
   "execution_count": 13,
   "metadata": {},
   "outputs": [],
   "source": [
    "def train(task, bert, run=10, epoch=5, lr=3e-5, max_seq_length=320):\n",
    "    print(task)\n",
    "    print(bert)\n",
    "    print(run)\n",
    "    script = 'run_'+task+'.py'\n",
    "\n",
    "    DATA_DIR=os.path.join('../data/', task)\n",
    "\n",
    "    for run in range(1, run+1):\n",
    "\n",
    "        OUTPUT_DIR=os.path.join(\"../testing_results/\", task, str(run) )\n",
    "\n",
    "        if not os.path.exists(OUTPUT_DIR):\n",
    "            os.makedirs(OUTPUT_DIR)\n",
    "\n",
    "        if not os.path.exists(os.path.join(OUTPUT_DIR, \"valid.json\") ):\n",
    "            !python ../src/$script \\\n",
    "            --bert_model $bert --do_train --do_eval \\\n",
    "            --max_seq_length $max_seq_length --train_batch_size 8 --learning_rate $lr --num_train_epochs $epoch \\\n",
    "            --output_dir $OUTPUT_DIR --data_dir $DATA_DIR --seed $run > $OUTPUT_DIR/train_log.txt 2>&1\n",
    "\n",
    "        if not os.path.exists(os.path.join(OUTPUT_DIR, \"predictions.json\") ):\n",
    "            !python ../src/run_ae.py \\\n",
    "            --bert_model $bert --do_eval --max_seq_length $max_seq_length \\\n",
    "            --output_dir $OUTPUT_DIR --data_dir $DATA_DIR --seed $run > $OUTPUT_DIR/test_log.txt 2>&1\n",
    "\n",
    "\n"
   ]
  },
  {
   "cell_type": "code",
   "execution_count": null,
   "metadata": {},
   "outputs": [],
   "source": [
    "train('ae', 'pt_model', run=1,  epoch=10, lr=3e-5, max_seq_length=320)"
   ]
  },
  {
   "cell_type": "code",
   "execution_count": 14,
   "metadata": {},
   "outputs": [
    {
     "name": "stdout",
     "output_type": "stream",
     "text": [
      "asc\n",
      "pt_model\n",
      "1\n"
     ]
    }
   ],
   "source": [
    "train('asc', 'pt_model', run=1,  epoch=2, lr=2e-5, max_seq_length=128)\n"
   ]
  },
  {
   "cell_type": "code",
   "execution_count": 15,
   "metadata": {},
   "outputs": [
    {
     "name": "stdout",
     "output_type": "stream",
     "text": [
      "rqa\n",
      "pt_model\n",
      "1\n"
     ]
    }
   ],
   "source": [
    "train('rqa', 'pt_model', run=1,  epoch=3, lr=1e-5, max_seq_length=128)\n"
   ]
  },
  {
   "cell_type": "code",
   "execution_count": 17,
   "metadata": {},
   "outputs": [
    {
     "name": "stdout",
     "output_type": "stream",
     "text": [
      "pc\n",
      "pt_model\n",
      "1\n"
     ]
    }
   ],
   "source": [
    "train('pc', 'pt_model', run=1,  epoch=4, lr=3e-5, max_seq_length=128)\n"
   ]
  }
 ],
 "metadata": {
  "kernelspec": {
   "display_name": "Python 3.9.7 ('base')",
   "language": "python",
   "name": "python3"
  },
  "language_info": {
   "codemirror_mode": {
    "name": "ipython",
    "version": 3
   },
   "file_extension": ".py",
   "mimetype": "text/x-python",
   "name": "python",
   "nbconvert_exporter": "python",
   "pygments_lexer": "ipython3",
   "version": "3.9.7"
  },
  "orig_nbformat": 4,
  "vscode": {
   "interpreter": {
    "hash": "20f018c32eb2507fb3cbcea8ecd551f9b20ec0da5b4ec9b06a928b0b7fcb5e23"
   }
  }
 },
 "nbformat": 4,
 "nbformat_minor": 2
}
