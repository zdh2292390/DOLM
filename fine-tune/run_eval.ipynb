{
 "cells": [
  {
   "cell_type": "code",
   "execution_count": 25,
   "metadata": {
    "scrolled": true
   },
   "outputs": [
    {
     "name": "stdout",
     "output_type": "stream",
     "text": [
      "['rqa', 'ae', 'asc', 'pc']\n",
      "['dolm']\n",
      "['amazon']\n",
      "10\n",
      "rqa : dolm amazon EM 50.43\n",
      "rqa : dolm amazon F1 65.32\n",
      "rqa : dolm amazon Precision 70.02\n",
      "rqa : dolm amazon Recall 69.39\n",
      "ae : dolm amazon Precision 85.86\n",
      "ae : dolm amazon Recall 88.23\n",
      "ae : dolm amazon F1 87.03\n",
      "asc : dolm amazon Accuracy 89.14\n",
      "asc : dolm amazon F1_macro 67.77\n",
      "pc : dolm amazon Accuracy 78.79\n",
      "pc : dolm amazon F1_micro 90.41\n",
      "pc : dolm amazon F1_macro 91.69\n"
     ]
    }
   ],
   "source": [
    "tasks=[\"rqa\", \"ae\", \"asc\", \"pc\"]\n",
    "# tasks = [\"asc\"]\n",
    "berts=[\"dolm\"]\n",
    "domains=['amazon']\n",
    "runs=10\n",
    "%run eval/eval.ipynb"
   ]
  },
  {
   "cell_type": "markdown",
   "metadata": {},
   "source": []
  },
  {
   "cell_type": "code",
   "execution_count": null,
   "metadata": {},
   "outputs": [],
   "source": []
  }
 ],
 "metadata": {
  "kernelspec": {
   "display_name": "Python 3.9.7 ('base')",
   "language": "python",
   "name": "python3"
  },
  "language_info": {
   "codemirror_mode": {
    "name": "ipython",
    "version": 3
   },
   "file_extension": ".py",
   "mimetype": "text/x-python",
   "name": "python",
   "nbconvert_exporter": "python",
   "pygments_lexer": "ipython3",
   "version": "3.9.7"
  },
  "vscode": {
   "interpreter": {
    "hash": "20f018c32eb2507fb3cbcea8ecd551f9b20ec0da5b4ec9b06a928b0b7fcb5e23"
   }
  }
 },
 "nbformat": 4,
 "nbformat_minor": 2
}
